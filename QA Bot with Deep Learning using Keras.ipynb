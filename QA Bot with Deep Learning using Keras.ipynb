{
 "cells": [
  {
   "cell_type": "markdown",
   "metadata": {},
   "source": [
    "# Question and Answer Chat Bots"
   ]
  },
  {
   "cell_type": "code",
   "execution_count": 3,
   "metadata": {},
   "outputs": [],
   "source": [
    "import pickle\n",
    "import numpy as np"
   ]
  },
  {
   "cell_type": "code",
   "execution_count": 4,
   "metadata": {},
   "outputs": [],
   "source": [
    "with open(\"train_qa.txt\", \"rb\") as fp: \n",
    "    train_data =  pickle.load(fp)"
   ]
  },
  {
   "cell_type": "code",
   "execution_count": 5,
   "metadata": {},
   "outputs": [],
   "source": [
    "with open(\"test_qa.txt\", \"rb\") as fp:\n",
    "    test_data =  pickle.load(fp)"
   ]
  },
  {
   "cell_type": "markdown",
   "metadata": {},
   "source": [
    "----"
   ]
  },
  {
   "cell_type": "markdown",
   "metadata": {},
   "source": [
    "### Type and Len of data\n"
   ]
  },
  {
   "cell_type": "code",
   "execution_count": 6,
   "metadata": {},
   "outputs": [
    {
     "data": {
      "text/plain": [
       "list"
      ]
     },
     "execution_count": 6,
     "metadata": {},
     "output_type": "execute_result"
    }
   ],
   "source": [
    "type(test_data)"
   ]
  },
  {
   "cell_type": "code",
   "execution_count": 7,
   "metadata": {},
   "outputs": [
    {
     "data": {
      "text/plain": [
       "list"
      ]
     },
     "execution_count": 7,
     "metadata": {},
     "output_type": "execute_result"
    }
   ],
   "source": [
    "type(train_data)"
   ]
  },
  {
   "cell_type": "code",
   "execution_count": 8,
   "metadata": {},
   "outputs": [
    {
     "data": {
      "text/plain": [
       "1000"
      ]
     },
     "execution_count": 8,
     "metadata": {},
     "output_type": "execute_result"
    }
   ],
   "source": [
    "len(test_data)"
   ]
  },
  {
   "cell_type": "code",
   "execution_count": 9,
   "metadata": {},
   "outputs": [
    {
     "data": {
      "text/plain": [
       "10000"
      ]
     },
     "execution_count": 9,
     "metadata": {},
     "output_type": "execute_result"
    }
   ],
   "source": [
    "len(train_data)"
   ]
  },
  {
   "cell_type": "code",
   "execution_count": 10,
   "metadata": {},
   "outputs": [
    {
     "data": {
      "text/plain": [
       "(['Mary',\n",
       "  'moved',\n",
       "  'to',\n",
       "  'the',\n",
       "  'bathroom',\n",
       "  '.',\n",
       "  'Sandra',\n",
       "  'journeyed',\n",
       "  'to',\n",
       "  'the',\n",
       "  'bedroom',\n",
       "  '.'],\n",
       " ['Is', 'Sandra', 'in', 'the', 'hallway', '?'],\n",
       " 'no')"
      ]
     },
     "execution_count": 10,
     "metadata": {},
     "output_type": "execute_result"
    }
   ],
   "source": [
    "train_data[0]"
   ]
  },
  {
   "cell_type": "code",
   "execution_count": 11,
   "metadata": {},
   "outputs": [
    {
     "data": {
      "text/plain": [
       "'Mary moved to the bathroom . Sandra journeyed to the bedroom .'"
      ]
     },
     "execution_count": 11,
     "metadata": {},
     "output_type": "execute_result"
    }
   ],
   "source": [
    "#Story\n",
    "' '.join(train_data[0][0])"
   ]
  },
  {
   "cell_type": "code",
   "execution_count": 12,
   "metadata": {},
   "outputs": [
    {
     "data": {
      "text/plain": [
       "'Is Sandra in the hallway ?'"
      ]
     },
     "execution_count": 12,
     "metadata": {},
     "output_type": "execute_result"
    }
   ],
   "source": [
    "#Question\n",
    "' '.join(train_data[0][1])"
   ]
  },
  {
   "cell_type": "code",
   "execution_count": 13,
   "metadata": {},
   "outputs": [
    {
     "data": {
      "text/plain": [
       "'no'"
      ]
     },
     "execution_count": 13,
     "metadata": {},
     "output_type": "execute_result"
    }
   ],
   "source": [
    "#Answer\n",
    "train_data[0][2]"
   ]
  },
  {
   "cell_type": "markdown",
   "metadata": {},
   "source": [
    "-----\n",
    "\n",
    "## Setting up Vocabulary of All Words"
   ]
  },
  {
   "cell_type": "code",
   "execution_count": 14,
   "metadata": {},
   "outputs": [],
   "source": [
    "# Create a set that holds the vocab words\n",
    "vocab = set()"
   ]
  },
  {
   "cell_type": "code",
   "execution_count": 15,
   "metadata": {},
   "outputs": [],
   "source": [
    "all_data = test_data + train_data"
   ]
  },
  {
   "cell_type": "code",
   "execution_count": 16,
   "metadata": {},
   "outputs": [],
   "source": [
    "for story, question , answer in all_data:\n",
    "    vocab = vocab.union(set(story))\n",
    "    vocab = vocab.union(set(question))"
   ]
  },
  {
   "cell_type": "code",
   "execution_count": 17,
   "metadata": {},
   "outputs": [],
   "source": [
    "vocab.add('no')\n",
    "vocab.add('yes')"
   ]
  },
  {
   "cell_type": "code",
   "execution_count": 18,
   "metadata": {},
   "outputs": [
    {
     "data": {
      "text/plain": [
       "{'.',\n",
       " '?',\n",
       " 'Daniel',\n",
       " 'Is',\n",
       " 'John',\n",
       " 'Mary',\n",
       " 'Sandra',\n",
       " 'apple',\n",
       " 'back',\n",
       " 'bathroom',\n",
       " 'bedroom',\n",
       " 'discarded',\n",
       " 'down',\n",
       " 'dropped',\n",
       " 'football',\n",
       " 'garden',\n",
       " 'got',\n",
       " 'grabbed',\n",
       " 'hallway',\n",
       " 'in',\n",
       " 'journeyed',\n",
       " 'kitchen',\n",
       " 'left',\n",
       " 'milk',\n",
       " 'moved',\n",
       " 'no',\n",
       " 'office',\n",
       " 'picked',\n",
       " 'put',\n",
       " 'the',\n",
       " 'there',\n",
       " 'to',\n",
       " 'took',\n",
       " 'travelled',\n",
       " 'up',\n",
       " 'went',\n",
       " 'yes'}"
      ]
     },
     "execution_count": 18,
     "metadata": {},
     "output_type": "execute_result"
    }
   ],
   "source": [
    "vocab"
   ]
  },
  {
   "cell_type": "code",
   "execution_count": 19,
   "metadata": {},
   "outputs": [],
   "source": [
    "vocab_len = len(vocab) + 1 #we add an extra space to hold a 0 for Keras's pad_sequences"
   ]
  },
  {
   "cell_type": "code",
   "execution_count": 20,
   "metadata": {},
   "outputs": [],
   "source": [
    "max_story_len = max([len(data[0]) for data in all_data])"
   ]
  },
  {
   "cell_type": "code",
   "execution_count": 21,
   "metadata": {},
   "outputs": [
    {
     "data": {
      "text/plain": [
       "156"
      ]
     },
     "execution_count": 21,
     "metadata": {},
     "output_type": "execute_result"
    }
   ],
   "source": [
    "max_story_len"
   ]
  },
  {
   "cell_type": "code",
   "execution_count": 22,
   "metadata": {},
   "outputs": [],
   "source": [
    "max_question_len = max([len(data[1]) for data in all_data])"
   ]
  },
  {
   "cell_type": "code",
   "execution_count": 23,
   "metadata": {},
   "outputs": [
    {
     "data": {
      "text/plain": [
       "6"
      ]
     },
     "execution_count": 23,
     "metadata": {},
     "output_type": "execute_result"
    }
   ],
   "source": [
    "max_question_len"
   ]
  },
  {
   "cell_type": "markdown",
   "metadata": {},
   "source": [
    "## Vectorizing the Data"
   ]
  },
  {
   "cell_type": "code",
   "execution_count": 24,
   "metadata": {},
   "outputs": [
    {
     "data": {
      "text/plain": [
       "{'.',\n",
       " '?',\n",
       " 'Daniel',\n",
       " 'Is',\n",
       " 'John',\n",
       " 'Mary',\n",
       " 'Sandra',\n",
       " 'apple',\n",
       " 'back',\n",
       " 'bathroom',\n",
       " 'bedroom',\n",
       " 'discarded',\n",
       " 'down',\n",
       " 'dropped',\n",
       " 'football',\n",
       " 'garden',\n",
       " 'got',\n",
       " 'grabbed',\n",
       " 'hallway',\n",
       " 'in',\n",
       " 'journeyed',\n",
       " 'kitchen',\n",
       " 'left',\n",
       " 'milk',\n",
       " 'moved',\n",
       " 'no',\n",
       " 'office',\n",
       " 'picked',\n",
       " 'put',\n",
       " 'the',\n",
       " 'there',\n",
       " 'to',\n",
       " 'took',\n",
       " 'travelled',\n",
       " 'up',\n",
       " 'went',\n",
       " 'yes'}"
      ]
     },
     "execution_count": 24,
     "metadata": {},
     "output_type": "execute_result"
    }
   ],
   "source": [
    "vocab"
   ]
  },
  {
   "cell_type": "code",
   "execution_count": 25,
   "metadata": {},
   "outputs": [],
   "source": [
    "# Reserve 0 for pad_sequences\n",
    "vocab_size = len(vocab) + 1"
   ]
  },
  {
   "cell_type": "markdown",
   "metadata": {},
   "source": [
    "-----------"
   ]
  },
  {
   "cell_type": "code",
   "execution_count": 26,
   "metadata": {},
   "outputs": [
    {
     "name": "stderr",
     "output_type": "stream",
     "text": [
      "Using TensorFlow backend.\n"
     ]
    }
   ],
   "source": [
    "from keras.preprocessing.sequence import pad_sequences\n",
    "from keras.preprocessing.text import Tokenizer"
   ]
  },
  {
   "cell_type": "code",
   "execution_count": 27,
   "metadata": {},
   "outputs": [],
   "source": [
    "# integer encode sequences of words\n",
    "tokenizer = Tokenizer(filters=[])\n",
    "tokenizer.fit_on_texts(vocab)"
   ]
  },
  {
   "cell_type": "code",
   "execution_count": 28,
   "metadata": {},
   "outputs": [
    {
     "data": {
      "text/plain": [
       "{'daniel': 1,\n",
       " 'the': 2,\n",
       " 'bathroom': 3,\n",
       " 'journeyed': 4,\n",
       " 'up': 5,\n",
       " 'mary': 6,\n",
       " 'left': 7,\n",
       " 'discarded': 8,\n",
       " 'to': 9,\n",
       " 'garden': 10,\n",
       " 'travelled': 11,\n",
       " 'took': 12,\n",
       " '.': 13,\n",
       " 'back': 14,\n",
       " '?': 15,\n",
       " 'milk': 16,\n",
       " 'kitchen': 17,\n",
       " 'grabbed': 18,\n",
       " 'got': 19,\n",
       " 'sandra': 20,\n",
       " 'john': 21,\n",
       " 'apple': 22,\n",
       " 'put': 23,\n",
       " 'football': 24,\n",
       " 'office': 25,\n",
       " 'dropped': 26,\n",
       " 'is': 27,\n",
       " 'no': 28,\n",
       " 'in': 29,\n",
       " 'went': 30,\n",
       " 'yes': 31,\n",
       " 'hallway': 32,\n",
       " 'there': 33,\n",
       " 'bedroom': 34,\n",
       " 'down': 35,\n",
       " 'moved': 36,\n",
       " 'picked': 37}"
      ]
     },
     "execution_count": 28,
     "metadata": {},
     "output_type": "execute_result"
    }
   ],
   "source": [
    "tokenizer.word_index"
   ]
  },
  {
   "cell_type": "code",
   "execution_count": 29,
   "metadata": {},
   "outputs": [],
   "source": [
    "train_story_text = []\n",
    "train_question_text = []\n",
    "train_answers = []\n",
    "\n",
    "for story,question,answer in train_data:\n",
    "    train_story_text.append(story)\n",
    "    train_question_text.append(question)"
   ]
  },
  {
   "cell_type": "code",
   "execution_count": 30,
   "metadata": {},
   "outputs": [],
   "source": [
    "train_story_seq = tokenizer.texts_to_sequences(train_story_text)"
   ]
  },
  {
   "cell_type": "code",
   "execution_count": 31,
   "metadata": {},
   "outputs": [
    {
     "data": {
      "text/plain": [
       "10000"
      ]
     },
     "execution_count": 31,
     "metadata": {},
     "output_type": "execute_result"
    }
   ],
   "source": [
    "len(train_story_text)"
   ]
  },
  {
   "cell_type": "code",
   "execution_count": 32,
   "metadata": {},
   "outputs": [
    {
     "data": {
      "text/plain": [
       "10000"
      ]
     },
     "execution_count": 32,
     "metadata": {},
     "output_type": "execute_result"
    }
   ],
   "source": [
    "len(train_story_seq)"
   ]
  },
  {
   "cell_type": "code",
   "execution_count": 33,
   "metadata": {},
   "outputs": [],
   "source": [
    "# word_index = tokenizer.word_index"
   ]
  },
  {
   "cell_type": "markdown",
   "metadata": {},
   "source": [
    "### Functionalize Vectorization"
   ]
  },
  {
   "cell_type": "code",
   "execution_count": 34,
   "metadata": {},
   "outputs": [],
   "source": [
    "def vectorize_stories(data, word_index=tokenizer.word_index, max_story_len=max_story_len,max_question_len=max_question_len):\n",
    "    '''\n",
    "    INPUT: \n",
    "    \n",
    "    data: consisting of Stories,Queries,and Answers\n",
    "    word_index: word index dictionary from tokenizer\n",
    "    max_story_len: the length of the longest story (used for pad_sequences function)\n",
    "    max_question_len: length of the longest question (used for pad_sequences function)\n",
    "\n",
    "\n",
    "    OUTPUT:\n",
    "    \n",
    "    Vectorizes the stories,questions, and answers into padded sequences. We first loop for every story, query , and\n",
    "    answer in the data. Then we convert the raw words to an word index value. Then we append each set to their appropriate\n",
    "    output list. Then once we have converted the words to numbers, we pad the sequences so they are all of equal length.\n",
    "    \n",
    "    Returns this in the form of a tuple (X,Xq,Y) (padded based on max lengths)\n",
    "    '''\n",
    "    \n",
    "    \n",
    "    # X = Stories\n",
    "    X = []\n",
    "    # Xq = Question\n",
    "    Xq = []\n",
    "    # Y = Answer\n",
    "    Y = []\n",
    "    \n",
    "    \n",
    "    for story, query, answer in data:\n",
    "        x = [word_index[word.lower()] for word in story]\n",
    "        xq = [word_index[word.lower()] for word in query]\n",
    "        y = np.zeros(len(word_index) + 1)\n",
    "        y[word_index[answer]] = 1\n",
    "        X.append(x)\n",
    "        Xq.append(xq)\n",
    "        Y.append(y)\n",
    "    return (pad_sequences(X, maxlen=max_story_len),pad_sequences(Xq, maxlen=max_question_len), np.array(Y))"
   ]
  },
  {
   "cell_type": "code",
   "execution_count": 35,
   "metadata": {},
   "outputs": [],
   "source": [
    "inputs_train, queries_train, answers_train = vectorize_stories(train_data)"
   ]
  },
  {
   "cell_type": "code",
   "execution_count": 36,
   "metadata": {},
   "outputs": [],
   "source": [
    "inputs_test, queries_test, answers_test = vectorize_stories(test_data)"
   ]
  },
  {
   "cell_type": "code",
   "execution_count": 37,
   "metadata": {},
   "outputs": [
    {
     "data": {
      "text/plain": [
       "array([[ 0,  0,  0, ...,  2, 34, 13],\n",
       "       [ 0,  0,  0, ...,  2, 10, 13],\n",
       "       [ 0,  0,  0, ...,  2, 10, 13],\n",
       "       ...,\n",
       "       [ 0,  0,  0, ...,  2, 22, 13],\n",
       "       [ 0,  0,  0, ...,  2, 10, 13],\n",
       "       [ 0,  0,  0, ..., 22, 33, 13]])"
      ]
     },
     "execution_count": 37,
     "metadata": {},
     "output_type": "execute_result"
    }
   ],
   "source": [
    "inputs_test"
   ]
  },
  {
   "cell_type": "code",
   "execution_count": 38,
   "metadata": {},
   "outputs": [
    {
     "data": {
      "text/plain": [
       "array([[27, 21, 29,  2, 17, 15],\n",
       "       [27, 21, 29,  2, 17, 15],\n",
       "       [27, 21, 29,  2, 10, 15],\n",
       "       ...,\n",
       "       [27,  6, 29,  2, 34, 15],\n",
       "       [27, 20, 29,  2, 10, 15],\n",
       "       [27,  6, 29,  2, 10, 15]])"
      ]
     },
     "execution_count": 38,
     "metadata": {},
     "output_type": "execute_result"
    }
   ],
   "source": [
    "queries_test"
   ]
  },
  {
   "cell_type": "code",
   "execution_count": 39,
   "metadata": {},
   "outputs": [
    {
     "data": {
      "text/plain": [
       "array([[0., 0., 0., ..., 0., 0., 0.],\n",
       "       [0., 0., 0., ..., 0., 0., 0.],\n",
       "       [0., 0., 0., ..., 0., 0., 0.],\n",
       "       ...,\n",
       "       [0., 0., 0., ..., 0., 0., 0.],\n",
       "       [0., 0., 0., ..., 0., 0., 0.],\n",
       "       [0., 0., 0., ..., 0., 0., 0.]])"
      ]
     },
     "execution_count": 39,
     "metadata": {},
     "output_type": "execute_result"
    }
   ],
   "source": [
    "answers_test"
   ]
  },
  {
   "cell_type": "code",
   "execution_count": 40,
   "metadata": {},
   "outputs": [
    {
     "data": {
      "text/plain": [
       "array([  0.,   0.,   0.,   0.,   0.,   0.,   0.,   0.,   0.,   0.,   0.,\n",
       "         0.,   0.,   0.,   0.,   0.,   0.,   0.,   0.,   0.,   0.,   0.,\n",
       "         0.,   0.,   0.,   0.,   0.,   0., 503.,   0.,   0., 497.,   0.,\n",
       "         0.,   0.,   0.,   0.,   0.])"
      ]
     },
     "execution_count": 40,
     "metadata": {},
     "output_type": "execute_result"
    }
   ],
   "source": [
    "sum(answers_test)"
   ]
  },
  {
   "cell_type": "code",
   "execution_count": 41,
   "metadata": {},
   "outputs": [
    {
     "data": {
      "text/plain": [
       "31"
      ]
     },
     "execution_count": 41,
     "metadata": {},
     "output_type": "execute_result"
    }
   ],
   "source": [
    "tokenizer.word_index['yes']"
   ]
  },
  {
   "cell_type": "code",
   "execution_count": 42,
   "metadata": {},
   "outputs": [
    {
     "data": {
      "text/plain": [
       "28"
      ]
     },
     "execution_count": 42,
     "metadata": {},
     "output_type": "execute_result"
    }
   ],
   "source": [
    "tokenizer.word_index['no']"
   ]
  },
  {
   "cell_type": "markdown",
   "metadata": {},
   "source": [
    "## Create the Model using Keras"
   ]
  },
  {
   "cell_type": "code",
   "execution_count": 43,
   "metadata": {},
   "outputs": [],
   "source": [
    "from keras.models import Sequential, Model\n",
    "from keras.layers.embeddings import Embedding\n",
    "from keras.layers import Input, Activation, Dense, Permute, Dropout\n",
    "from keras.layers import add, dot, concatenate\n",
    "from keras.layers import LSTM"
   ]
  },
  {
   "cell_type": "code",
   "execution_count": 44,
   "metadata": {},
   "outputs": [],
   "source": [
    "input_sequence = Input((max_story_len,))\n",
    "question = Input((max_question_len,))"
   ]
  },
  {
   "cell_type": "markdown",
   "metadata": {},
   "source": [
    "## Encoders"
   ]
  },
  {
   "cell_type": "code",
   "execution_count": 45,
   "metadata": {},
   "outputs": [],
   "source": [
    "# Input gets embedded to a sequence of vectors\n",
    "input_encoder_m = Sequential()\n",
    "input_encoder_m.add(Embedding(input_dim=vocab_size,output_dim=64))\n",
    "input_encoder_m.add(Dropout(0.3))\n",
    "\n",
    "# This encoder will output:\n",
    "# (samples, story_maxlen, embedding_dim)"
   ]
  },
  {
   "cell_type": "code",
   "execution_count": 46,
   "metadata": {},
   "outputs": [],
   "source": [
    "# embed the input into a sequence of vectors of size query_maxlen\n",
    "input_encoder_c = Sequential()\n",
    "input_encoder_c.add(Embedding(input_dim=vocab_size,output_dim=max_question_len))\n",
    "input_encoder_c.add(Dropout(0.3))\n",
    "# output: (samples, story_maxlen, query_maxlen)"
   ]
  },
  {
   "cell_type": "markdown",
   "metadata": {},
   "source": [
    "### Question Encoder"
   ]
  },
  {
   "cell_type": "code",
   "execution_count": 47,
   "metadata": {},
   "outputs": [],
   "source": [
    "question_encoder = Sequential()\n",
    "question_encoder.add(Embedding(input_dim=vocab_size,\n",
    "                               output_dim=64,\n",
    "                               input_length=max_question_len))\n",
    "question_encoder.add(Dropout(0.3))\n",
    "# output: (samples, query_maxlen, embedding_dim)"
   ]
  },
  {
   "cell_type": "markdown",
   "metadata": {},
   "source": [
    "### Encode the Sequences"
   ]
  },
  {
   "cell_type": "code",
   "execution_count": 48,
   "metadata": {},
   "outputs": [],
   "source": [
    "# encode input sequence and questions\n",
    "# to sequences of dense vectors\n",
    "input_encoded_m = input_encoder_m(input_sequence)\n",
    "input_encoded_c = input_encoder_c(input_sequence)\n",
    "question_encoded = question_encoder(question)"
   ]
  },
  {
   "cell_type": "code",
   "execution_count": 49,
   "metadata": {},
   "outputs": [],
   "source": [
    "# shape: `(samples, story_maxlen, query_maxlen)`\n",
    "match = dot([input_encoded_m, question_encoded], axes=(2, 2))\n",
    "match = Activation('softmax')(match)"
   ]
  },
  {
   "cell_type": "code",
   "execution_count": 50,
   "metadata": {},
   "outputs": [],
   "source": [
    "# add the match matrix with the second input vector sequence\n",
    "response = add([match, input_encoded_c])  # (samples, story_maxlen, query_maxlen)\n",
    "response = Permute((2, 1))(response)  # (samples, query_maxlen, story_maxlen)"
   ]
  },
  {
   "cell_type": "code",
   "execution_count": 51,
   "metadata": {},
   "outputs": [],
   "source": [
    "# concatenate the match matrix with the question vector sequence\n",
    "answer = concatenate([response, question_encoded])"
   ]
  },
  {
   "cell_type": "code",
   "execution_count": 52,
   "metadata": {},
   "outputs": [
    {
     "data": {
      "text/plain": [
       "<tf.Tensor 'concatenate_1/concat:0' shape=(?, 6, 220) dtype=float32>"
      ]
     },
     "execution_count": 52,
     "metadata": {},
     "output_type": "execute_result"
    }
   ],
   "source": [
    "answer"
   ]
  },
  {
   "cell_type": "code",
   "execution_count": 53,
   "metadata": {},
   "outputs": [],
   "source": [
    "answer = LSTM(32)(answer)"
   ]
  },
  {
   "cell_type": "code",
   "execution_count": 54,
   "metadata": {},
   "outputs": [],
   "source": [
    "answer = Dropout(0.5)(answer)\n",
    "answer = Dense(vocab_size)(answer)  # (samples, vocab_size)"
   ]
  },
  {
   "cell_type": "code",
   "execution_count": 55,
   "metadata": {},
   "outputs": [],
   "source": [
    "answer = Activation('softmax')(answer)\n",
    "\n",
    "# build the final model\n",
    "model = Model([input_sequence, question], answer)\n",
    "model.compile(optimizer='rmsprop', loss='categorical_crossentropy',\n",
    "              metrics=['accuracy'])"
   ]
  },
  {
   "cell_type": "code",
   "execution_count": 56,
   "metadata": {},
   "outputs": [
    {
     "name": "stdout",
     "output_type": "stream",
     "text": [
      "Model: \"model_1\"\n",
      "__________________________________________________________________________________________________\n",
      "Layer (type)                    Output Shape         Param #     Connected to                     \n",
      "==================================================================================================\n",
      "input_1 (InputLayer)            (None, 156)          0                                            \n",
      "__________________________________________________________________________________________________\n",
      "input_2 (InputLayer)            (None, 6)            0                                            \n",
      "__________________________________________________________________________________________________\n",
      "sequential_1 (Sequential)       multiple             2432        input_1[0][0]                    \n",
      "__________________________________________________________________________________________________\n",
      "sequential_3 (Sequential)       (None, 6, 64)        2432        input_2[0][0]                    \n",
      "__________________________________________________________________________________________________\n",
      "dot_1 (Dot)                     (None, 156, 6)       0           sequential_1[1][0]               \n",
      "                                                                 sequential_3[1][0]               \n",
      "__________________________________________________________________________________________________\n",
      "activation_1 (Activation)       (None, 156, 6)       0           dot_1[0][0]                      \n",
      "__________________________________________________________________________________________________\n",
      "sequential_2 (Sequential)       multiple             228         input_1[0][0]                    \n",
      "__________________________________________________________________________________________________\n",
      "add_1 (Add)                     (None, 156, 6)       0           activation_1[0][0]               \n",
      "                                                                 sequential_2[1][0]               \n",
      "__________________________________________________________________________________________________\n",
      "permute_1 (Permute)             (None, 6, 156)       0           add_1[0][0]                      \n",
      "__________________________________________________________________________________________________\n",
      "concatenate_1 (Concatenate)     (None, 6, 220)       0           permute_1[0][0]                  \n",
      "                                                                 sequential_3[1][0]               \n",
      "__________________________________________________________________________________________________\n",
      "lstm_1 (LSTM)                   (None, 32)           32384       concatenate_1[0][0]              \n",
      "__________________________________________________________________________________________________\n",
      "dropout_4 (Dropout)             (None, 32)           0           lstm_1[0][0]                     \n",
      "__________________________________________________________________________________________________\n",
      "dense_1 (Dense)                 (None, 38)           1254        dropout_4[0][0]                  \n",
      "__________________________________________________________________________________________________\n",
      "activation_2 (Activation)       (None, 38)           0           dense_1[0][0]                    \n",
      "==================================================================================================\n",
      "Total params: 38,730\n",
      "Trainable params: 38,730\n",
      "Non-trainable params: 0\n",
      "__________________________________________________________________________________________________\n"
     ]
    }
   ],
   "source": [
    "model.summary()"
   ]
  },
  {
   "cell_type": "code",
   "execution_count": 63,
   "metadata": {},
   "outputs": [
    {
     "name": "stdout",
     "output_type": "stream",
     "text": [
      "Train on 10000 samples, validate on 1000 samples\n",
      "Epoch 1/15\n",
      "10000/10000 [==============================] - 4s 435us/step - loss: 0.2005 - accuracy: 0.9148 - val_loss: 0.5760 - val_accuracy: 0.8170\n",
      "Epoch 2/15\n",
      "10000/10000 [==============================] - 4s 420us/step - loss: 0.1987 - accuracy: 0.9137 - val_loss: 0.5667 - val_accuracy: 0.8100\n",
      "Epoch 3/15\n",
      "10000/10000 [==============================] - 4s 405us/step - loss: 0.1954 - accuracy: 0.9180 - val_loss: 0.6131 - val_accuracy: 0.8080\n",
      "Epoch 4/15\n",
      "10000/10000 [==============================] - 4s 406us/step - loss: 0.2052 - accuracy: 0.9137 - val_loss: 0.5804 - val_accuracy: 0.8190\n",
      "Epoch 5/15\n",
      "10000/10000 [==============================] - 4s 399us/step - loss: 0.1950 - accuracy: 0.9162 - val_loss: 0.5926 - val_accuracy: 0.8010\n",
      "Epoch 6/15\n",
      "10000/10000 [==============================] - 4s 434us/step - loss: 0.1928 - accuracy: 0.9204 - val_loss: 0.5766 - val_accuracy: 0.8070\n",
      "Epoch 7/15\n",
      "10000/10000 [==============================] - 4s 436us/step - loss: 0.1947 - accuracy: 0.9210 - val_loss: 0.5791 - val_accuracy: 0.8130\n",
      "Epoch 8/15\n",
      "10000/10000 [==============================] - 5s 453us/step - loss: 0.1994 - accuracy: 0.9190 - val_loss: 0.5520 - val_accuracy: 0.8170\n",
      "Epoch 9/15\n",
      "10000/10000 [==============================] - 5s 510us/step - loss: 0.1931 - accuracy: 0.9191 - val_loss: 0.5625 - val_accuracy: 0.8190\n",
      "Epoch 10/15\n",
      "10000/10000 [==============================] - 5s 480us/step - loss: 0.1978 - accuracy: 0.9176 - val_loss: 0.5602 - val_accuracy: 0.8170\n",
      "Epoch 11/15\n",
      "10000/10000 [==============================] - 5s 470us/step - loss: 0.1904 - accuracy: 0.9202 - val_loss: 0.5793 - val_accuracy: 0.8170\n",
      "Epoch 12/15\n",
      "10000/10000 [==============================] - 5s 504us/step - loss: 0.1914 - accuracy: 0.9176 - val_loss: 0.5621 - val_accuracy: 0.8110\n",
      "Epoch 13/15\n",
      "10000/10000 [==============================] - 5s 455us/step - loss: 0.1897 - accuracy: 0.9206 - val_loss: 0.5775 - val_accuracy: 0.8090\n",
      "Epoch 14/15\n",
      "10000/10000 [==============================] - 5s 458us/step - loss: 0.1927 - accuracy: 0.9239 - val_loss: 0.5842 - val_accuracy: 0.8170\n",
      "Epoch 15/15\n",
      "10000/10000 [==============================] - 5s 462us/step - loss: 0.1898 - accuracy: 0.9212 - val_loss: 0.5935 - val_accuracy: 0.8130\n"
     ]
    }
   ],
   "source": [
    "# train on 15 epochs\n",
    "history_1 = model.fit([inputs_train, queries_train], answers_train,batch_size=32,epochs=15,validation_data=([inputs_test, queries_test], answers_test))\n",
    "\n",
    "\n",
    "# accuracy = 64% (92% after running through after second training)"
   ]
  },
  {
   "cell_type": "code",
   "execution_count": 65,
   "metadata": {},
   "outputs": [
    {
     "name": "stdout",
     "output_type": "stream",
     "text": [
      "dict_keys(['val_loss', 'val_accuracy', 'loss', 'accuracy'])\n"
     ]
    },
    {
     "data": {
      "image/png": "[encoded data removed]",
      "text/plain": [
       "<Figure size 432x288 with 1 Axes>"
      ]
     },
     "metadata": {
      "needs_background": "light"
     },
     "output_type": "display_data"
    }
   ],
   "source": [
    "import matplotlib.pyplot as plt\n",
    "%matplotlib inline\n",
    "print(history_1.history.keys())\n",
    "# summarize history for accuracy\n",
    "plt.plot(history_1.history['accuracy'])\n",
    "plt.plot(history_1.history['val_accuracy'])\n",
    "plt.title('model accuracy')\n",
    "plt.ylabel('accuracy')\n",
    "plt.xlabel('epoch')\n",
    "plt.legend(['train', 'test'], loc='upper left')\n",
    "plt.show()"
   ]
  },
  {
   "cell_type": "code",
   "execution_count": 58,
   "metadata": {
    "scrolled": false
   },
   "outputs": [
    {
     "name": "stdout",
     "output_type": "stream",
     "text": [
      "Train on 10000 samples, validate on 1000 samples\n",
      "Epoch 1/120\n",
      "10000/10000 [==============================] - 5s 483us/step - loss: 0.6188 - accuracy: 0.6661 - val_loss: 0.6051 - val_accuracy: 0.6820\n",
      "Epoch 2/120\n",
      "10000/10000 [==============================] - 4s 442us/step - loss: 0.6018 - accuracy: 0.6818 - val_loss: 0.5866 - val_accuracy: 0.6930\n",
      "Epoch 3/120\n",
      "10000/10000 [==============================] - 5s 465us/step - loss: 0.5835 - accuracy: 0.7047 - val_loss: 0.5712 - val_accuracy: 0.7110\n",
      "Epoch 4/120\n",
      "10000/10000 [==============================] - 5s 462us/step - loss: 0.5599 - accuracy: 0.7190 - val_loss: 0.5301 - val_accuracy: 0.7480\n",
      "Epoch 5/120\n",
      "10000/10000 [==============================] - 4s 444us/step - loss: 0.5367 - accuracy: 0.7389 - val_loss: 0.5079 - val_accuracy: 0.7540\n",
      "Epoch 6/120\n",
      "10000/10000 [==============================] - 5s 511us/step - loss: 0.5191 - accuracy: 0.7525 - val_loss: 0.5350 - val_accuracy: 0.7480\n",
      "Epoch 7/120\n",
      "10000/10000 [==============================] - 5s 460us/step - loss: 0.5065 - accuracy: 0.7587 - val_loss: 0.4826 - val_accuracy: 0.7700\n",
      "Epoch 8/120\n",
      "10000/10000 [==============================] - 5s 461us/step - loss: 0.4861 - accuracy: 0.7765 - val_loss: 0.4615 - val_accuracy: 0.7940\n",
      "Epoch 9/120\n",
      "10000/10000 [==============================] - 5s 486us/step - loss: 0.4702 - accuracy: 0.7895 - val_loss: 0.4548 - val_accuracy: 0.7950\n",
      "Epoch 10/120\n",
      "10000/10000 [==============================] - 5s 459us/step - loss: 0.4508 - accuracy: 0.8006 - val_loss: 0.4594 - val_accuracy: 0.7800\n",
      "Epoch 11/120\n",
      "10000/10000 [==============================] - 5s 457us/step - loss: 0.4373 - accuracy: 0.8086 - val_loss: 0.4192 - val_accuracy: 0.8130\n",
      "Epoch 12/120\n",
      "10000/10000 [==============================] - 5s 479us/step - loss: 0.4247 - accuracy: 0.8120 - val_loss: 0.4136 - val_accuracy: 0.8110\n",
      "Epoch 13/120\n",
      "10000/10000 [==============================] - 5s 460us/step - loss: 0.4101 - accuracy: 0.8195 - val_loss: 0.4247 - val_accuracy: 0.8170\n",
      "Epoch 14/120\n",
      "10000/10000 [==============================] - 4s 445us/step - loss: 0.4064 - accuracy: 0.8232 - val_loss: 0.4054 - val_accuracy: 0.8190\n",
      "Epoch 15/120\n",
      "10000/10000 [==============================] - 4s 424us/step - loss: 0.3958 - accuracy: 0.8252 - val_loss: 0.4077 - val_accuracy: 0.8210\n",
      "Epoch 16/120\n",
      "10000/10000 [==============================] - 4s 446us/step - loss: 0.3820 - accuracy: 0.8368 - val_loss: 0.4052 - val_accuracy: 0.8250\n",
      "Epoch 17/120\n",
      "10000/10000 [==============================] - 4s 438us/step - loss: 0.3782 - accuracy: 0.8408 - val_loss: 0.3873 - val_accuracy: 0.8330\n",
      "Epoch 18/120\n",
      "10000/10000 [==============================] - 5s 476us/step - loss: 0.3738 - accuracy: 0.8374 - val_loss: 0.3854 - val_accuracy: 0.8220\n",
      "Epoch 19/120\n",
      "10000/10000 [==============================] - 4s 442us/step - loss: 0.3643 - accuracy: 0.8483 - val_loss: 0.4020 - val_accuracy: 0.8300\n",
      "Epoch 20/120\n",
      "10000/10000 [==============================] - 4s 434us/step - loss: 0.3582 - accuracy: 0.8466 - val_loss: 0.3805 - val_accuracy: 0.8360\n",
      "Epoch 21/120\n",
      "10000/10000 [==============================] - 4s 429us/step - loss: 0.3549 - accuracy: 0.8499 - val_loss: 0.3877 - val_accuracy: 0.8310\n",
      "Epoch 22/120\n",
      "10000/10000 [==============================] - 4s 427us/step - loss: 0.3519 - accuracy: 0.8509 - val_loss: 0.3971 - val_accuracy: 0.8230\n",
      "Epoch 23/120\n",
      "10000/10000 [==============================] - 5s 477us/step - loss: 0.3490 - accuracy: 0.8504 - val_loss: 0.3814 - val_accuracy: 0.8300\n",
      "Epoch 24/120\n",
      "10000/10000 [==============================] - 4s 447us/step - loss: 0.3430 - accuracy: 0.8541 - val_loss: 0.3924 - val_accuracy: 0.8240\n",
      "Epoch 25/120\n",
      "10000/10000 [==============================] - 4s 440us/step - loss: 0.3411 - accuracy: 0.8554 - val_loss: 0.3818 - val_accuracy: 0.8380\n",
      "Epoch 26/120\n",
      "10000/10000 [==============================] - 4s 429us/step - loss: 0.3379 - accuracy: 0.8534 - val_loss: 0.3783 - val_accuracy: 0.8280\n",
      "Epoch 27/120\n",
      "10000/10000 [==============================] - 4s 428us/step - loss: 0.3368 - accuracy: 0.8581 - val_loss: 0.3903 - val_accuracy: 0.8230\n",
      "Epoch 28/120\n",
      "10000/10000 [==============================] - 4s 433us/step - loss: 0.3294 - accuracy: 0.8557 - val_loss: 0.3807 - val_accuracy: 0.8260\n",
      "Epoch 29/120\n",
      "10000/10000 [==============================] - 4s 430us/step - loss: 0.3294 - accuracy: 0.8590 - val_loss: 0.3769 - val_accuracy: 0.8320\n",
      "Epoch 30/120\n",
      "10000/10000 [==============================] - 4s 426us/step - loss: 0.3217 - accuracy: 0.8645 - val_loss: 0.3685 - val_accuracy: 0.8270\n",
      "Epoch 31/120\n",
      "10000/10000 [==============================] - 4s 437us/step - loss: 0.3199 - accuracy: 0.8601 - val_loss: 0.3651 - val_accuracy: 0.8320\n",
      "Epoch 32/120\n",
      "10000/10000 [==============================] - 4s 431us/step - loss: 0.3213 - accuracy: 0.8595 - val_loss: 0.3952 - val_accuracy: 0.8330\n",
      "Epoch 33/120\n",
      "10000/10000 [==============================] - 4s 435us/step - loss: 0.3162 - accuracy: 0.8647 - val_loss: 0.3643 - val_accuracy: 0.8250\n",
      "Epoch 34/120\n",
      "10000/10000 [==============================] - 4s 436us/step - loss: 0.3114 - accuracy: 0.8676 - val_loss: 0.3692 - val_accuracy: 0.8360\n",
      "Epoch 35/120\n",
      "10000/10000 [==============================] - 4s 432us/step - loss: 0.3099 - accuracy: 0.8655 - val_loss: 0.3657 - val_accuracy: 0.8300\n",
      "Epoch 36/120\n",
      "10000/10000 [==============================] - 4s 436us/step - loss: 0.3146 - accuracy: 0.8647 - val_loss: 0.3676 - val_accuracy: 0.8350\n",
      "Epoch 37/120\n",
      "10000/10000 [==============================] - 4s 424us/step - loss: 0.3080 - accuracy: 0.8647 - val_loss: 0.3671 - val_accuracy: 0.8320\n",
      "Epoch 38/120\n",
      "10000/10000 [==============================] - 4s 444us/step - loss: 0.3065 - accuracy: 0.8672 - val_loss: 0.3726 - val_accuracy: 0.8340\n",
      "Epoch 39/120\n",
      "10000/10000 [==============================] - 4s 428us/step - loss: 0.3072 - accuracy: 0.8672 - val_loss: 0.3770 - val_accuracy: 0.8300\n",
      "Epoch 40/120\n",
      "10000/10000 [==============================] - 4s 421us/step - loss: 0.3038 - accuracy: 0.8690 - val_loss: 0.3622 - val_accuracy: 0.8300\n",
      "Epoch 41/120\n",
      "10000/10000 [==============================] - 4s 423us/step - loss: 0.3018 - accuracy: 0.8695 - val_loss: 0.3824 - val_accuracy: 0.8260\n",
      "Epoch 42/120\n",
      "10000/10000 [==============================] - 4s 443us/step - loss: 0.3029 - accuracy: 0.8701 - val_loss: 0.3796 - val_accuracy: 0.8280\n",
      "Epoch 43/120\n",
      "10000/10000 [==============================] - 4s 425us/step - loss: 0.3019 - accuracy: 0.8711 - val_loss: 0.3828 - val_accuracy: 0.8350\n",
      "Epoch 44/120\n",
      "10000/10000 [==============================] - 4s 421us/step - loss: 0.2976 - accuracy: 0.8716 - val_loss: 0.3688 - val_accuracy: 0.8330\n",
      "Epoch 45/120\n",
      "10000/10000 [==============================] - 4s 426us/step - loss: 0.2971 - accuracy: 0.8694 - val_loss: 0.3700 - val_accuracy: 0.8420\n",
      "Epoch 46/120\n",
      "10000/10000 [==============================] - 4s 443us/step - loss: 0.2998 - accuracy: 0.8695 - val_loss: 0.3856 - val_accuracy: 0.8330\n",
      "Epoch 47/120\n",
      "10000/10000 [==============================] - 4s 424us/step - loss: 0.2920 - accuracy: 0.8712 - val_loss: 0.3577 - val_accuracy: 0.8290\n",
      "Epoch 48/120\n",
      "10000/10000 [==============================] - 4s 422us/step - loss: 0.2911 - accuracy: 0.8717 - val_loss: 0.3935 - val_accuracy: 0.8260\n",
      "Epoch 49/120\n",
      "10000/10000 [==============================] - 4s 436us/step - loss: 0.2867 - accuracy: 0.8733 - val_loss: 0.3677 - val_accuracy: 0.8330\n",
      "Epoch 50/120\n",
      "10000/10000 [==============================] - 4s 436us/step - loss: 0.2862 - accuracy: 0.8774 - val_loss: 0.3894 - val_accuracy: 0.8290\n",
      "Epoch 51/120\n",
      "10000/10000 [==============================] - 4s 424us/step - loss: 0.2892 - accuracy: 0.8781 - val_loss: 0.3781 - val_accuracy: 0.8320\n",
      "Epoch 52/120\n",
      "10000/10000 [==============================] - 4s 438us/step - loss: 0.2844 - accuracy: 0.8773 - val_loss: 0.4027 - val_accuracy: 0.8280\n",
      "Epoch 53/120\n",
      "10000/10000 [==============================] - 4s 443us/step - loss: 0.2803 - accuracy: 0.8747 - val_loss: 0.3758 - val_accuracy: 0.8310 loss: 0.2806 \n",
      "Epoch 54/120\n",
      "10000/10000 [==============================] - 4s 422us/step - loss: 0.2803 - accuracy: 0.8801 - val_loss: 0.3847 - val_accuracy: 0.8340\n",
      "Epoch 55/120\n"
     ]
    },
    {
     "name": "stdout",
     "output_type": "stream",
     "text": [
      "10000/10000 [==============================] - 4s 425us/step - loss: 0.2807 - accuracy: 0.8761 - val_loss: 0.3799 - val_accuracy: 0.8310\n",
      "Epoch 56/120\n",
      "10000/10000 [==============================] - 4s 423us/step - loss: 0.2776 - accuracy: 0.8794 - val_loss: 0.4010 - val_accuracy: 0.8280\n",
      "Epoch 57/120\n",
      "10000/10000 [==============================] - 4s 444us/step - loss: 0.2787 - accuracy: 0.8797 - val_loss: 0.4079 - val_accuracy: 0.8320\n",
      "Epoch 58/120\n",
      "10000/10000 [==============================] - 4s 426us/step - loss: 0.2808 - accuracy: 0.8780 - val_loss: 0.3908 - val_accuracy: 0.8250\n",
      "Epoch 59/120\n",
      "10000/10000 [==============================] - 4s 429us/step - loss: 0.2699 - accuracy: 0.8822 - val_loss: 0.4330 - val_accuracy: 0.8280\n",
      "Epoch 60/120\n",
      "10000/10000 [==============================] - 4s 431us/step - loss: 0.2713 - accuracy: 0.8832 - val_loss: 0.3823 - val_accuracy: 0.8210\n",
      "Epoch 61/120\n",
      "10000/10000 [==============================] - 4s 441us/step - loss: 0.2711 - accuracy: 0.8824 - val_loss: 0.4046 - val_accuracy: 0.8260\n",
      "Epoch 62/120\n",
      "10000/10000 [==============================] - 4s 430us/step - loss: 0.2648 - accuracy: 0.8835 - val_loss: 0.4138 - val_accuracy: 0.8370\n",
      "Epoch 63/120\n",
      "10000/10000 [==============================] - 4s 425us/step - loss: 0.2669 - accuracy: 0.8876 - val_loss: 0.4078 - val_accuracy: 0.8320\n",
      "Epoch 64/120\n",
      "10000/10000 [==============================] - 4s 444us/step - loss: 0.2653 - accuracy: 0.8850 - val_loss: 0.3960 - val_accuracy: 0.8300\n",
      "Epoch 65/120\n",
      "10000/10000 [==============================] - 4s 429us/step - loss: 0.2598 - accuracy: 0.8861 - val_loss: 0.4058 - val_accuracy: 0.8320\n",
      "Epoch 66/120\n",
      "10000/10000 [==============================] - 4s 422us/step - loss: 0.2603 - accuracy: 0.8878 - val_loss: 0.4005 - val_accuracy: 0.8270\n",
      "Epoch 67/120\n",
      "10000/10000 [==============================] - 4s 421us/step - loss: 0.2575 - accuracy: 0.8890 - val_loss: 0.4139 - val_accuracy: 0.8260\n",
      "Epoch 68/120\n",
      "10000/10000 [==============================] - 4s 440us/step - loss: 0.2594 - accuracy: 0.8895 - val_loss: 0.4149 - val_accuracy: 0.8260\n",
      "Epoch 69/120\n",
      "10000/10000 [==============================] - 4s 439us/step - loss: 0.2565 - accuracy: 0.8879 - val_loss: 0.4255 - val_accuracy: 0.8310\n",
      "Epoch 70/120\n",
      "10000/10000 [==============================] - 5s 504us/step - loss: 0.2554 - accuracy: 0.8926 - val_loss: 0.4018 - val_accuracy: 0.8250\n",
      "Epoch 71/120\n",
      "10000/10000 [==============================] - 4s 441us/step - loss: 0.2602 - accuracy: 0.8871 - val_loss: 0.4067 - val_accuracy: 0.8310\n",
      "Epoch 72/120\n",
      "10000/10000 [==============================] - 4s 440us/step - loss: 0.2536 - accuracy: 0.8916 - val_loss: 0.4393 - val_accuracy: 0.8250\n",
      "Epoch 73/120\n",
      "10000/10000 [==============================] - 4s 425us/step - loss: 0.2508 - accuracy: 0.8929 - val_loss: 0.4316 - val_accuracy: 0.8300\n",
      "Epoch 74/120\n",
      "10000/10000 [==============================] - 4s 429us/step - loss: 0.2506 - accuracy: 0.8915 - val_loss: 0.4367 - val_accuracy: 0.8340\n",
      "Epoch 75/120\n",
      "10000/10000 [==============================] - 4s 446us/step - loss: 0.2498 - accuracy: 0.8952 - val_loss: 0.4335 - val_accuracy: 0.8250\n",
      "Epoch 76/120\n",
      "10000/10000 [==============================] - 4s 431us/step - loss: 0.2502 - accuracy: 0.8882 - val_loss: 0.4340 - val_accuracy: 0.8310\n",
      "Epoch 77/120\n",
      "10000/10000 [==============================] - 4s 435us/step - loss: 0.2478 - accuracy: 0.8941 - val_loss: 0.4497 - val_accuracy: 0.8270\n",
      "Epoch 78/120\n",
      "10000/10000 [==============================] - 4s 437us/step - loss: 0.2438 - accuracy: 0.8932 - val_loss: 0.4392 - val_accuracy: 0.8280\n",
      "Epoch 79/120\n",
      "10000/10000 [==============================] - 4s 450us/step - loss: 0.2434 - accuracy: 0.8967 - val_loss: 0.4442 - val_accuracy: 0.8220\n",
      "Epoch 80/120\n",
      "10000/10000 [==============================] - 4s 426us/step - loss: 0.2441 - accuracy: 0.8952 - val_loss: 0.4549 - val_accuracy: 0.8300\n",
      "Epoch 81/120\n",
      "10000/10000 [==============================] - 4s 425us/step - loss: 0.2425 - accuracy: 0.8927 - val_loss: 0.4302 - val_accuracy: 0.8240\n",
      "Epoch 82/120\n",
      "10000/10000 [==============================] - 4s 431us/step - loss: 0.2390 - accuracy: 0.8962 - val_loss: 0.4659 - val_accuracy: 0.8240\n",
      "Epoch 83/120\n",
      "10000/10000 [==============================] - 4s 446us/step - loss: 0.2368 - accuracy: 0.8975 - val_loss: 0.4346 - val_accuracy: 0.8240\n",
      "Epoch 84/120\n",
      "10000/10000 [==============================] - 4s 439us/step - loss: 0.2406 - accuracy: 0.8959 - val_loss: 0.4547 - val_accuracy: 0.8270\n",
      "Epoch 85/120\n",
      "10000/10000 [==============================] - 4s 439us/step - loss: 0.2429 - accuracy: 0.8949 - val_loss: 0.4629 - val_accuracy: 0.8200\n",
      "Epoch 86/120\n",
      "10000/10000 [==============================] - 5s 454us/step - loss: 0.2377 - accuracy: 0.9008 - val_loss: 0.4696 - val_accuracy: 0.8300\n",
      "Epoch 87/120\n",
      "10000/10000 [==============================] - 4s 433us/step - loss: 0.2359 - accuracy: 0.8970 - val_loss: 0.4498 - val_accuracy: 0.8340\n",
      "Epoch 88/120\n",
      "10000/10000 [==============================] - 4s 429us/step - loss: 0.2310 - accuracy: 0.9002 - val_loss: 0.4589 - val_accuracy: 0.8220\n",
      "Epoch 89/120\n",
      "10000/10000 [==============================] - 4s 434us/step - loss: 0.2291 - accuracy: 0.9011 - val_loss: 0.4862 - val_accuracy: 0.8220\n",
      "Epoch 90/120\n",
      "10000/10000 [==============================] - 5s 451us/step - loss: 0.2319 - accuracy: 0.9014 - val_loss: 0.4956 - val_accuracy: 0.8240\n",
      "Epoch 91/120\n",
      "10000/10000 [==============================] - 4s 427us/step - loss: 0.2329 - accuracy: 0.9022 - val_loss: 0.4497 - val_accuracy: 0.8230\n",
      "Epoch 92/120\n",
      "10000/10000 [==============================] - 4s 423us/step - loss: 0.2279 - accuracy: 0.9042 - val_loss: 0.4804 - val_accuracy: 0.8240\n",
      "Epoch 93/120\n",
      "10000/10000 [==============================] - 4s 437us/step - loss: 0.2257 - accuracy: 0.9001 - val_loss: 0.5093 - val_accuracy: 0.8160\n",
      "Epoch 94/120\n",
      "10000/10000 [==============================] - 4s 440us/step - loss: 0.2295 - accuracy: 0.9035 - val_loss: 0.5115 - val_accuracy: 0.8120\n",
      "Epoch 95/120\n",
      "10000/10000 [==============================] - 4s 436us/step - loss: 0.2261 - accuracy: 0.9035 - val_loss: 0.4892 - val_accuracy: 0.8160\n",
      "Epoch 96/120\n",
      "10000/10000 [==============================] - 4s 432us/step - loss: 0.2226 - accuracy: 0.9075 - val_loss: 0.4580 - val_accuracy: 0.8250\n",
      "Epoch 97/120\n",
      "10000/10000 [==============================] - 5s 505us/step - loss: 0.2221 - accuracy: 0.9050 - val_loss: 0.4882 - val_accuracy: 0.8210\n",
      "Epoch 98/120\n",
      "10000/10000 [==============================] - 5s 470us/step - loss: 0.2233 - accuracy: 0.9101 - val_loss: 0.4741 - val_accuracy: 0.8290\n",
      "Epoch 99/120\n",
      "10000/10000 [==============================] - 4s 424us/step - loss: 0.2202 - accuracy: 0.9062 - val_loss: 0.5208 - val_accuracy: 0.8170\n",
      "Epoch 100/120\n",
      "10000/10000 [==============================] - 4s 433us/step - loss: 0.2217 - accuracy: 0.9084 - val_loss: 0.5193 - val_accuracy: 0.8150\n",
      "Epoch 101/120\n",
      "10000/10000 [==============================] - 4s 447us/step - loss: 0.2210 - accuracy: 0.9089 - val_loss: 0.5029 - val_accuracy: 0.8270\n",
      "Epoch 102/120\n",
      "10000/10000 [==============================] - 4s 430us/step - loss: 0.2152 - accuracy: 0.9083 - val_loss: 0.4919 - val_accuracy: 0.8220\n",
      "Epoch 103/120\n",
      "10000/10000 [==============================] - 4s 428us/step - loss: 0.2167 - accuracy: 0.9073 - val_loss: 0.5405 - val_accuracy: 0.8260\n",
      "Epoch 104/120\n",
      "10000/10000 [==============================] - 4s 434us/step - loss: 0.2184 - accuracy: 0.9071 - val_loss: 0.4874 - val_accuracy: 0.8230\n",
      "Epoch 105/120\n",
      "10000/10000 [==============================] - 4s 427us/step - loss: 0.2117 - accuracy: 0.9082 - val_loss: 0.5335 - val_accuracy: 0.8190\n",
      "Epoch 106/120\n",
      "10000/10000 [==============================] - 4s 424us/step - loss: 0.2136 - accuracy: 0.9109 - val_loss: 0.5170 - val_accuracy: 0.8170\n",
      "Epoch 107/120\n",
      "10000/10000 [==============================] - 4s 432us/step - loss: 0.2132 - accuracy: 0.9092 - val_loss: 0.5486 - val_accuracy: 0.8160\n",
      "Epoch 108/120\n",
      "10000/10000 [==============================] - 5s 455us/step - loss: 0.2119 - accuracy: 0.9092 - val_loss: 0.5484 - val_accuracy: 0.8310\n",
      "Epoch 109/120\n"
     ]
    },
    {
     "name": "stdout",
     "output_type": "stream",
     "text": [
      "10000/10000 [==============================] - 4s 439us/step - loss: 0.2054 - accuracy: 0.9134 - val_loss: 0.5417 - val_accuracy: 0.8280\n",
      "Epoch 110/120\n",
      "10000/10000 [==============================] - 4s 432us/step - loss: 0.2069 - accuracy: 0.9121 - val_loss: 0.5290 - val_accuracy: 0.8150\n",
      "Epoch 111/120\n",
      "10000/10000 [==============================] - 4s 432us/step - loss: 0.2054 - accuracy: 0.9124 - val_loss: 0.5459 - val_accuracy: 0.8160\n",
      "Epoch 112/120\n",
      "10000/10000 [==============================] - 4s 440us/step - loss: 0.2088 - accuracy: 0.9130 - val_loss: 0.5599 - val_accuracy: 0.8130\n",
      "Epoch 113/120\n",
      "10000/10000 [==============================] - 4s 430us/step - loss: 0.2093 - accuracy: 0.9118 - val_loss: 0.5788 - val_accuracy: 0.8120\n",
      "Epoch 114/120\n",
      "10000/10000 [==============================] - 4s 421us/step - loss: 0.2049 - accuracy: 0.9161 - val_loss: 0.5182 - val_accuracy: 0.8180\n",
      "Epoch 115/120\n",
      "10000/10000 [==============================] - 4s 431us/step - loss: 0.2071 - accuracy: 0.9112 - val_loss: 0.5516 - val_accuracy: 0.8180\n",
      "Epoch 116/120\n",
      "10000/10000 [==============================] - 4s 429us/step - loss: 0.2007 - accuracy: 0.9167 - val_loss: 0.5386 - val_accuracy: 0.8190\n",
      "Epoch 117/120\n",
      "10000/10000 [==============================] - 4s 423us/step - loss: 0.1994 - accuracy: 0.9173 - val_loss: 0.5313 - val_accuracy: 0.8180\n",
      "Epoch 118/120\n",
      "10000/10000 [==============================] - 4s 422us/step - loss: 0.1959 - accuracy: 0.9166 - val_loss: 0.5633 - val_accuracy: 0.8150\n",
      "Epoch 119/120\n",
      "10000/10000 [==============================] - 4s 438us/step - loss: 0.2038 - accuracy: 0.9147 - val_loss: 0.5813 - val_accuracy: 0.8110\n",
      "Epoch 120/120\n",
      "10000/10000 [==============================] - 4s 423us/step - loss: 0.1999 - accuracy: 0.9157 - val_loss: 0.5832 - val_accuracy: 0.8180\n"
     ]
    }
   ],
   "source": [
    "# train on 120 epochs\n",
    "history = model.fit([inputs_train, queries_train], answers_train,batch_size=32,epochs=120,validation_data=([inputs_test, queries_test], answers_test))"
   ]
  },
  {
   "cell_type": "code",
   "execution_count": 59,
   "metadata": {},
   "outputs": [],
   "source": [
    "#Save the trained model for future use\n",
    "filename = 'chatbot_120_epochs.h5'\n",
    "model.save(filename)"
   ]
  },
  {
   "cell_type": "code",
   "execution_count": 61,
   "metadata": {},
   "outputs": [
    {
     "name": "stdout",
     "output_type": "stream",
     "text": [
      "dict_keys(['val_loss', 'val_accuracy', 'loss', 'accuracy'])\n"
     ]
    },
    {
     "data": {
      "image/png": "[encoded data removed]",
      "text/plain": [
       "<Figure size 432x288 with 1 Axes>"
      ]
     },
     "metadata": {
      "needs_background": "light"
     },
     "output_type": "display_data"
    }
   ],
   "source": [
    "import matplotlib.pyplot as plt\n",
    "%matplotlib inline\n",
    "print(history.history.keys())\n",
    "# summarize history for accuracy\n",
    "plt.plot(history.history['accuracy'])\n",
    "plt.plot(history.history['val_accuracy'])\n",
    "plt.title('model accuracy')\n",
    "plt.ylabel('accuracy')\n",
    "plt.xlabel('epoch')\n",
    "plt.legend(['train', 'test'], loc='upper left')\n",
    "plt.show()"
   ]
  },
  {
   "cell_type": "markdown",
   "metadata": {},
   "source": [
    "### Evaluating on Given Test Set"
   ]
  },
  {
   "cell_type": "code",
   "execution_count": 66,
   "metadata": {},
   "outputs": [],
   "source": [
    "model.load_weights(filename)\n",
    "pred_results = model.predict(([inputs_test, queries_test]))"
   ]
  },
  {
   "cell_type": "code",
   "execution_count": 67,
   "metadata": {},
   "outputs": [
    {
     "data": {
      "text/plain": [
       "['Mary',\n",
       " 'got',\n",
       " 'the',\n",
       " 'milk',\n",
       " 'there',\n",
       " '.',\n",
       " 'John',\n",
       " 'moved',\n",
       " 'to',\n",
       " 'the',\n",
       " 'bedroom',\n",
       " '.']"
      ]
     },
     "execution_count": 67,
     "metadata": {},
     "output_type": "execute_result"
    }
   ],
   "source": [
    "test_data[0][0]"
   ]
  },
  {
   "cell_type": "code",
   "execution_count": 68,
   "metadata": {},
   "outputs": [
    {
     "name": "stdout",
     "output_type": "stream",
     "text": [
      "Mary got the milk there . John moved to the bedroom .\n"
     ]
    }
   ],
   "source": [
    "story =' '.join(word for word in test_data[0][0])\n",
    "print(story)"
   ]
  },
  {
   "cell_type": "code",
   "execution_count": 69,
   "metadata": {},
   "outputs": [
    {
     "name": "stdout",
     "output_type": "stream",
     "text": [
      "Is John in the kitchen ?\n"
     ]
    }
   ],
   "source": [
    "query = ' '.join(word for word in test_data[0][1])\n",
    "print(query)"
   ]
  },
  {
   "cell_type": "code",
   "execution_count": 70,
   "metadata": {},
   "outputs": [
    {
     "name": "stdout",
     "output_type": "stream",
     "text": [
      "True Test Answer from Data is: no\n"
     ]
    }
   ],
   "source": [
    "print(\"True Test Answer from Data is:\",test_data[0][2])"
   ]
  }
 ],
 "metadata": {
  "kernelspec": {
   "display_name": "Python 3",
   "language": "python",
   "name": "python3"
  },
  "language_info": {
   "codemirror_mode": {
    "name": "ipython",
    "version": 3
   },
   "file_extension": ".py",
   "mimetype": "text/x-python",
   "name": "python",
   "nbconvert_exporter": "python",
   "pygments_lexer": "ipython3",
   "version": "3.7.3"
  }
 },
 "nbformat": 4,
 "nbformat_minor": 2
}
